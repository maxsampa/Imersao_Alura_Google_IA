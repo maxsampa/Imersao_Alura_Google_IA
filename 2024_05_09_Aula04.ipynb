{
  "nbformat": 4,
  "nbformat_minor": 0,
  "metadata": {
    "colab": {
      "provenance": [],
      "authorship_tag": "API_SECRET",
      "include_colab_link": true
    },
    "kernelspec": {
      "name": "python3",
      "display_name": "Python 3"
    },
    "language_info": {
      "name": "python"
    }
  },
  "cells": [
    {
      "cell_type": "markdown",
      "metadata": {
        "id": "view-in-github",
        "colab_type": "text"
      },
      "source": [
        "<a href=\"https://colab.research.google.com/github/maxsampa/Imersao_Alura_Google_IA/blob/main/2024_05_09_Aula04.ipynb\" target=\"_parent\"><img src=\"https://colab.research.google.com/assets/colab-badge.svg\" alt=\"Open In Colab\"/></a>"
      ]
    },
    {
      "cell_type": "code",
      "execution_count": 16,
      "metadata": {
        "id": "Y5vEWgkqD_yH"
      },
      "outputs": [],
      "source": [
        "!pip install -q -U google-generativeai"
      ]
    },
    {
      "cell_type": "code",
      "source": [
        "#Import the Python SDK\n",
        "import google.generativeai as genai\n",
        "from google.colab import userdata\n",
        "api_key = userdata.get('SECRET_KEY')\n",
        "genai.configure(api_key=api_key)"
      ],
      "metadata": {
        "id": "0sQylyewUu3T"
      },
      "execution_count": 17,
      "outputs": []
    },
    {
      "cell_type": "markdown",
      "source": [
        "Listar os modelos disponíveis"
      ],
      "metadata": {
        "id": "OXeAU7yiYnT5"
      }
    },
    {
      "cell_type": "code",
      "source": [
        "for m in genai.list_models():\n",
        "  if 'generateContent' in m.supported_generation_methods:\n",
        "    print(m.name)"
      ],
      "metadata": {
        "colab": {
          "base_uri": "https://localhost:8080/",
          "height": 139
        },
        "id": "5uyBI1yjVKpn",
        "outputId": "87c2297c-3a9e-4c1a-c966-019c583ddbc0"
      },
      "execution_count": 18,
      "outputs": [
        {
          "output_type": "stream",
          "name": "stdout",
          "text": [
            "models/gemini-1.0-pro\n",
            "models/gemini-1.0-pro-001\n",
            "models/gemini-1.0-pro-latest\n",
            "models/gemini-1.0-pro-vision-latest\n",
            "models/gemini-1.5-pro-latest\n",
            "models/gemini-pro\n",
            "models/gemini-pro-vision\n"
          ]
        }
      ]
    },
    {
      "cell_type": "code",
      "source": [
        "generation_config = {\n",
        "    \"candidate_count\" : 1,\n",
        "    \"temperature\": 0.5,\n",
        "    }"
      ],
      "metadata": {
        "id": "lvQTEkVbaa-j"
      },
      "execution_count": 19,
      "outputs": []
    },
    {
      "cell_type": "code",
      "source": [
        "safety_settings = {\n",
        "    \"HARASSMENT\": \"BLOCK_NONE\",\n",
        "    \"HATE\": \"BLOCK_NONE\",\n",
        "    \"SEXUAL\": \"BLOCK_NONE\",\n",
        "    \"DANGEROUS\": \"BLOCK_NONE\"\n",
        "}"
      ],
      "metadata": {
        "id": "6v1zxXb4bIgx"
      },
      "execution_count": 20,
      "outputs": []
    },
    {
      "cell_type": "markdown",
      "source": [
        "Inicializando o modelo"
      ],
      "metadata": {
        "id": "Bxpmh7L9cRl9"
      }
    },
    {
      "cell_type": "code",
      "source": [
        "model = genai.GenerativeModel(model_name=\"gemini-1.0-pro\",\n",
        "                              generation_config=generation_config,\n",
        "                              safety_settings=safety_settings)"
      ],
      "metadata": {
        "id": "ifGtfh_McWUs"
      },
      "execution_count": 22,
      "outputs": []
    },
    {
      "cell_type": "code",
      "source": [
        "response = model.generate_content(\"Vamos aprender conteúdo sobre IA. Me dê sugestões.\")\n",
        "print(response.text)"
      ],
      "metadata": {
        "colab": {
          "base_uri": "https://localhost:8080/",
          "height": 697
        },
        "id": "Hc9ImCY_dGZS",
        "outputId": "7431aafa-26f5-482f-e05e-f97bb0996556"
      },
      "execution_count": 24,
      "outputs": [
        {
          "output_type": "stream",
          "name": "stdout",
          "text": [
            "**Recursos Online:**\n",
            "\n",
            "* **Coursera:** Cursos de IA da Universidade de Stanford, Google e IBM\n",
            "* **edX:** Cursos de IA do MIT, Harvard e Microsoft\n",
            "* **Udemy:** Cursos de IA abrangendo desde o básico até tópicos avançados\n",
            "* **Khan Academy:** Tutoriais e exercícios interativos sobre IA\n",
            "* **Google AI Education:** Recursos de aprendizagem e ferramentas para educadores e alunos\n",
            "\n",
            "**Livros:**\n",
            "\n",
            "* **Inteligência Artificial: Uma Abordagem Moderna** por Stuart Russell e Peter Norvig\n",
            "* **Aprendizado de Máquina** por Tom Mitchell\n",
            "* **Aprendizado Profundo** por Ian Goodfellow, Yoshua Bengio e Aaron Courville\n",
            "* **Inteligência Artificial: Uma Abordagem Prática** por Peter Norvig e Stuart Russell\n",
            "* **Inteligência Artificial para Todos** por Andrew Ng\n",
            "\n",
            "**Canais do YouTube:**\n",
            "\n",
            "* **3Blue1Brown:** Vídeos animados explicando conceitos complexos de IA\n",
            "* **Sentdex:** Tutoriais práticos sobre aprendizado de máquina e aprendizado profundo\n",
            "* **Simplilearn:** Cursos e webinars online sobre IA\n",
            "* **MIT OpenCourseWare:** Palestras e materiais de cursos de IA do MIT\n",
            "* **Khan Academy Kids:** Vídeos e atividades para crianças sobre IA\n",
            "\n",
            "**Podcasts:**\n",
            "\n",
            "* **The AI Podcast:** Entrevistas com especialistas em IA e discussões sobre as últimas tendências\n",
            "* **Machine Learning Podcast:** Tutoriais e entrevistas sobre aprendizado de máquina e aprendizado profundo\n",
            "* **Lex Fridman Podcast:** Entrevistas com pesquisadores e líderes de IA\n",
            "* **Artificial Intelligence Now:** Notícias e análises sobre IA\n",
            "* **The Robot Brains Podcast:** Discussões sobre o impacto da IA na sociedade\n",
            "\n",
            "**Comunidades:**\n",
            "\n",
            "* **Reddit:** Subreddits como /r/artificial e /r/machinelearning\n",
            "* **Stack Overflow:** Fórum para perguntas e respostas sobre IA\n",
            "* **Meetup:** Grupos locais para networking e aprendizado sobre IA\n",
            "* **Conferências:** Conferências como NeurIPS, ICML e CVPR para se conectar com especialistas e aprender sobre as pesquisas mais recentes\n"
          ]
        }
      ]
    },
    {
      "cell_type": "markdown",
      "source": [
        "Criando o chatbot"
      ],
      "metadata": {
        "id": "uUtYbnkndksA"
      }
    },
    {
      "cell_type": "code",
      "source": [
        "chat = model.start_chat(history=[])"
      ],
      "metadata": {
        "id": "hst__ngSdjyP"
      },
      "execution_count": 25,
      "outputs": []
    },
    {
      "cell_type": "code",
      "source": [
        "prompt = input(\"Esperando prompt: \")\n",
        "\n",
        "while prompt != \"fim\":\n",
        "  response = chat.send_message(prompt)\n",
        "  print(\"Resposta: \", response.text, \"\\n\")\n",
        "  prompt = input(\"Esperando prompt: \")"
      ],
      "metadata": {
        "colab": {
          "base_uri": "https://localhost:8080/",
          "height": 610
        },
        "id": "G-3lvWAMeEHY",
        "outputId": "b13d2a90-12b1-469c-c5d4-7cbfffdf5fc8"
      },
      "execution_count": 27,
      "outputs": [
        {
          "name": "stdout",
          "output_type": "stream",
          "text": [
            "Esperando prompt: quanto é 1+1\n",
            "Resposta:  2 \n",
            "\n",
            "Esperando prompt: qual a capitão do japão?\n",
            "Resposta:  Maya Yoshida \n",
            "\n",
            "Esperando prompt: Qual a capital do Japão?\n",
            "Resposta:  Tóquio \n",
            "\n",
            "Esperando prompt: Qual é a comida típica desse país?\n",
            "Resposta:  Sushi \n",
            "\n",
            "Esperando prompt: O que é o sdk?\n",
            "Resposta:  Kit de Desenvolvimento de Software (Software Development Kit) \n",
            "\n",
            "Esperando prompt: Para uma pessoa que está aprendendo programação, explique o que seria o sdk e a sua utilidade prática\n",
            "Resposta:  **O que é um SDK?**\n",
            "\n",
            "Um Kit de Desenvolvimento de Software (SDK) é um conjunto de ferramentas, bibliotecas e documentação fornecidos por uma empresa ou organização para ajudar os desenvolvedores a criar aplicativos para uma plataforma ou sistema específico.\n",
            "\n",
            "**Utilidade prática para iniciantes em programação:**\n",
            "\n",
            "* **Simplifica o desenvolvimento:** Os SDKs fornecem componentes pré-construídos e funções que podem ser facilmente integrados em seus aplicativos, economizando tempo e esforço.\n",
            "* **Acelera o aprendizado:** Ao usar SDKs, você pode se concentrar em aprender os conceitos básicos de programação sem se preocupar com os detalhes de baixo nível.\n",
            "* **Melhora a qualidade do código:** Os SDKs são desenvolvidos e testados por profissionais, garantindo que seu código seja confiável e eficiente.\n",
            "* **Fornece suporte:** Os SDKs geralmente vêm com documentação abrangente e fóruns de suporte, ajudando você a resolver problemas e aprender com os outros.\n",
            "* **Integração com plataformas:** Os SDKs permitem que você integre facilmente seus aplicativos com plataformas específicas, como sistemas operacionais, bancos de dados ou serviços em nuvem.\n",
            "\n",
            "**Exemplo:**\n",
            "\n",
            "Suponha que você esteja aprendendo a desenvolver aplicativos Android. O SDK do Android fornece todas as ferramentas e componentes necessários, como interfaces de usuário, recursos de rede e acesso a sensores do dispositivo. Ao usar o SDK do Android, você pode se concentrar em aprender os conceitos básicos de desenvolvimento de aplicativos Android sem se preocupar com os detalhes técnicos de baixo nível. \n",
            "\n",
            "Esperando prompt: fim\n"
          ]
        }
      ]
    },
    {
      "cell_type": "code",
      "source": [
        "chat.history"
      ],
      "metadata": {
        "colab": {
          "base_uri": "https://localhost:8080/"
        },
        "id": "NahiZi0diBVZ",
        "outputId": "75f0029e-f667-4171-dc72-161b2fbcea2e"
      },
      "execution_count": 30,
      "outputs": [
        {
          "output_type": "execute_result",
          "data": {
            "text/plain": [
              "[parts {\n",
              "   text: \"quanto \\303\\251 1+1\"\n",
              " }\n",
              " role: \"user\",\n",
              " parts {\n",
              "   text: \"2\"\n",
              " }\n",
              " role: \"model\",\n",
              " parts {\n",
              "   text: \"qual a capit\\303\\243o do jap\\303\\243o?\"\n",
              " }\n",
              " role: \"user\",\n",
              " parts {\n",
              "   text: \"Maya Yoshida\"\n",
              " }\n",
              " role: \"model\",\n",
              " parts {\n",
              "   text: \"Qual a capital do Jap\\303\\243o?\"\n",
              " }\n",
              " role: \"user\",\n",
              " parts {\n",
              "   text: \"T\\303\\263quio\"\n",
              " }\n",
              " role: \"model\",\n",
              " parts {\n",
              "   text: \"Qual \\303\\251 a comida t\\303\\255pica desse pa\\303\\255s?\"\n",
              " }\n",
              " role: \"user\",\n",
              " parts {\n",
              "   text: \"Sushi\"\n",
              " }\n",
              " role: \"model\",\n",
              " parts {\n",
              "   text: \"O que \\303\\251 o sdk?\"\n",
              " }\n",
              " role: \"user\",\n",
              " parts {\n",
              "   text: \"Kit de Desenvolvimento de Software (Software Development Kit)\"\n",
              " }\n",
              " role: \"model\",\n",
              " parts {\n",
              "   text: \"Para uma pessoa que est\\303\\241 aprendendo programa\\303\\247\\303\\243o, explique o que seria o sdk e a sua utilidade pr\\303\\241tica\"\n",
              " }\n",
              " role: \"user\",\n",
              " parts {\n",
              "   text: \"**O que \\303\\251 um SDK?**\\n\\nUm Kit de Desenvolvimento de Software (SDK) \\303\\251 um conjunto de ferramentas, bibliotecas e documenta\\303\\247\\303\\243o fornecidos por uma empresa ou organiza\\303\\247\\303\\243o para ajudar os desenvolvedores a criar aplicativos para uma plataforma ou sistema espec\\303\\255fico.\\n\\n**Utilidade pr\\303\\241tica para iniciantes em programa\\303\\247\\303\\243o:**\\n\\n* **Simplifica o desenvolvimento:** Os SDKs fornecem componentes pr\\303\\251-constru\\303\\255dos e fun\\303\\247\\303\\265es que podem ser facilmente integrados em seus aplicativos, economizando tempo e esfor\\303\\247o.\\n* **Acelera o aprendizado:** Ao usar SDKs, voc\\303\\252 pode se concentrar em aprender os conceitos b\\303\\241sicos de programa\\303\\247\\303\\243o sem se preocupar com os detalhes de baixo n\\303\\255vel.\\n* **Melhora a qualidade do c\\303\\263digo:** Os SDKs s\\303\\243o desenvolvidos e testados por profissionais, garantindo que seu c\\303\\263digo seja confi\\303\\241vel e eficiente.\\n* **Fornece suporte:** Os SDKs geralmente v\\303\\252m com documenta\\303\\247\\303\\243o abrangente e f\\303\\263runs de suporte, ajudando voc\\303\\252 a resolver problemas e aprender com os outros.\\n* **Integra\\303\\247\\303\\243o com plataformas:** Os SDKs permitem que voc\\303\\252 integre facilmente seus aplicativos com plataformas espec\\303\\255ficas, como sistemas operacionais, bancos de dados ou servi\\303\\247os em nuvem.\\n\\n**Exemplo:**\\n\\nSuponha que voc\\303\\252 esteja aprendendo a desenvolver aplicativos Android. O SDK do Android fornece todas as ferramentas e componentes necess\\303\\241rios, como interfaces de usu\\303\\241rio, recursos de rede e acesso a sensores do dispositivo. Ao usar o SDK do Android, voc\\303\\252 pode se concentrar em aprender os conceitos b\\303\\241sicos de desenvolvimento de aplicativos Android sem se preocupar com os detalhes t\\303\\251cnicos de baixo n\\303\\255vel.\"\n",
              " }\n",
              " role: \"model\"]"
            ]
          },
          "metadata": {},
          "execution_count": 30
        }
      ]
    },
    {
      "cell_type": "code",
      "source": [
        "!pip install -q -U markdownify\n",
        "import IPython.display  # Import the entire IPython.display module\n",
        "from IPython.display import display, Markdown  # Import specific functions\n"
      ],
      "metadata": {
        "id": "CTa7ag_9iV_b"
      },
      "execution_count": 33,
      "outputs": []
    },
    {
      "cell_type": "code",
      "source": [
        "#Melhorando a visualização\n",
        "#Código disponível em https://ai.google.dev/tutorials/python_quickstart#import_packages\n",
        "import textwrap\n",
        "import IPython.display\n",
        "from IPython.display import display_markdown\n",
        "\n",
        "def to_markdown(text):\n",
        "  text = text.replace('°', '  *')\n",
        "  return Markdown(textwrap.indent(text, '> ', predicate=lambda _:True))\n",
        "\n",
        "#Imprimindo o histórico\n",
        "for message in chat.history:\n",
        "  display(to_markdown(f'**{message.role}**: {message.parts[0].text}'))\n",
        "  print('-------------------------------------')"
      ],
      "metadata": {
        "colab": {
          "base_uri": "https://localhost:8080/",
          "height": 1000
        },
        "id": "A7TzBNqEgpwu",
        "outputId": "f1f2963b-d82a-4b91-c2d5-b9c70ad32b3e"
      },
      "execution_count": 36,
      "outputs": [
        {
          "output_type": "display_data",
          "data": {
            "text/plain": [
              "<IPython.core.display.Markdown object>"
            ],
            "text/markdown": "> **user**: quanto é 1+1"
          },
          "metadata": {}
        },
        {
          "output_type": "stream",
          "name": "stdout",
          "text": [
            "-------------------------------------\n"
          ]
        },
        {
          "output_type": "display_data",
          "data": {
            "text/plain": [
              "<IPython.core.display.Markdown object>"
            ],
            "text/markdown": "> **model**: 2"
          },
          "metadata": {}
        },
        {
          "output_type": "stream",
          "name": "stdout",
          "text": [
            "-------------------------------------\n"
          ]
        },
        {
          "output_type": "display_data",
          "data": {
            "text/plain": [
              "<IPython.core.display.Markdown object>"
            ],
            "text/markdown": "> **user**: qual a capitão do japão?"
          },
          "metadata": {}
        },
        {
          "output_type": "stream",
          "name": "stdout",
          "text": [
            "-------------------------------------\n"
          ]
        },
        {
          "output_type": "display_data",
          "data": {
            "text/plain": [
              "<IPython.core.display.Markdown object>"
            ],
            "text/markdown": "> **model**: Maya Yoshida"
          },
          "metadata": {}
        },
        {
          "output_type": "stream",
          "name": "stdout",
          "text": [
            "-------------------------------------\n"
          ]
        },
        {
          "output_type": "display_data",
          "data": {
            "text/plain": [
              "<IPython.core.display.Markdown object>"
            ],
            "text/markdown": "> **user**: Qual a capital do Japão?"
          },
          "metadata": {}
        },
        {
          "output_type": "stream",
          "name": "stdout",
          "text": [
            "-------------------------------------\n"
          ]
        },
        {
          "output_type": "display_data",
          "data": {
            "text/plain": [
              "<IPython.core.display.Markdown object>"
            ],
            "text/markdown": "> **model**: Tóquio"
          },
          "metadata": {}
        },
        {
          "output_type": "stream",
          "name": "stdout",
          "text": [
            "-------------------------------------\n"
          ]
        },
        {
          "output_type": "display_data",
          "data": {
            "text/plain": [
              "<IPython.core.display.Markdown object>"
            ],
            "text/markdown": "> **user**: Qual é a comida típica desse país?"
          },
          "metadata": {}
        },
        {
          "output_type": "stream",
          "name": "stdout",
          "text": [
            "-------------------------------------\n"
          ]
        },
        {
          "output_type": "display_data",
          "data": {
            "text/plain": [
              "<IPython.core.display.Markdown object>"
            ],
            "text/markdown": "> **model**: Sushi"
          },
          "metadata": {}
        },
        {
          "output_type": "stream",
          "name": "stdout",
          "text": [
            "-------------------------------------\n"
          ]
        },
        {
          "output_type": "display_data",
          "data": {
            "text/plain": [
              "<IPython.core.display.Markdown object>"
            ],
            "text/markdown": "> **user**: O que é o sdk?"
          },
          "metadata": {}
        },
        {
          "output_type": "stream",
          "name": "stdout",
          "text": [
            "-------------------------------------\n"
          ]
        },
        {
          "output_type": "display_data",
          "data": {
            "text/plain": [
              "<IPython.core.display.Markdown object>"
            ],
            "text/markdown": "> **model**: Kit de Desenvolvimento de Software (Software Development Kit)"
          },
          "metadata": {}
        },
        {
          "output_type": "stream",
          "name": "stdout",
          "text": [
            "-------------------------------------\n"
          ]
        },
        {
          "output_type": "display_data",
          "data": {
            "text/plain": [
              "<IPython.core.display.Markdown object>"
            ],
            "text/markdown": "> **user**: Para uma pessoa que está aprendendo programação, explique o que seria o sdk e a sua utilidade prática"
          },
          "metadata": {}
        },
        {
          "output_type": "stream",
          "name": "stdout",
          "text": [
            "-------------------------------------\n"
          ]
        },
        {
          "output_type": "display_data",
          "data": {
            "text/plain": [
              "<IPython.core.display.Markdown object>"
            ],
            "text/markdown": "> **model**: **O que é um SDK?**\n> \n> Um Kit de Desenvolvimento de Software (SDK) é um conjunto de ferramentas, bibliotecas e documentação fornecidos por uma empresa ou organização para ajudar os desenvolvedores a criar aplicativos para uma plataforma ou sistema específico.\n> \n> **Utilidade prática para iniciantes em programação:**\n> \n> * **Simplifica o desenvolvimento:** Os SDKs fornecem componentes pré-construídos e funções que podem ser facilmente integrados em seus aplicativos, economizando tempo e esforço.\n> * **Acelera o aprendizado:** Ao usar SDKs, você pode se concentrar em aprender os conceitos básicos de programação sem se preocupar com os detalhes de baixo nível.\n> * **Melhora a qualidade do código:** Os SDKs são desenvolvidos e testados por profissionais, garantindo que seu código seja confiável e eficiente.\n> * **Fornece suporte:** Os SDKs geralmente vêm com documentação abrangente e fóruns de suporte, ajudando você a resolver problemas e aprender com os outros.\n> * **Integração com plataformas:** Os SDKs permitem que você integre facilmente seus aplicativos com plataformas específicas, como sistemas operacionais, bancos de dados ou serviços em nuvem.\n> \n> **Exemplo:**\n> \n> Suponha que você esteja aprendendo a desenvolver aplicativos Android. O SDK do Android fornece todas as ferramentas e componentes necessários, como interfaces de usuário, recursos de rede e acesso a sensores do dispositivo. Ao usar o SDK do Android, você pode se concentrar em aprender os conceitos básicos de desenvolvimento de aplicativos Android sem se preocupar com os detalhes técnicos de baixo nível."
          },
          "metadata": {}
        },
        {
          "output_type": "stream",
          "name": "stdout",
          "text": [
            "-------------------------------------\n"
          ]
        }
      ]
    },
    {
      "cell_type": "code",
      "source": [],
      "metadata": {
        "id": "0RA2eceijUq2"
      },
      "execution_count": null,
      "outputs": []
    }
  ]
}
